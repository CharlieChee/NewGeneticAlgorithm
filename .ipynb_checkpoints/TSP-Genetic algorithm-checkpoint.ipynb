{
 "cells": [
  {
   "cell_type": "markdown",
   "metadata": {},
   "source": [
    "# Travelling Salesman Problem using Genetic algorithm\n",
    "## **By Karthika Nair and Changlong Ji M1-CSN**"
   ]
  },
  {
   "cell_type": "code",
   "execution_count": 2,
   "metadata": {},
   "outputs": [],
   "source": [
    "import random\n",
    "import math\n",
    "\n",
    "\n",
    "# Generate the distance matrix\n",
    "def generate_map(num_cities):\n",
    "    distances = [[0] * num_cities for _ in range(num_cities)]\n",
    "    for i in range(num_cities):\n",
    "        for j in range(i+1, num_cities):\n",
    "            # Generate random distances, if two cities are not connected, the distance is set to positive infinity\n",
    "            distance = random.randint(1, num_cities)\n",
    "            if random.random() < 0.1:  # 10% probability to set distance to positive infinity\n",
    "                distance = math.inf\n",
    "            distances[i][j] = distance\n",
    "            distances[j][i] = distance  # Set the distance in the symmetric position\n",
    "    return distances\n",
    "            \n",
    "# Output the distance matrix\n",
    "# distances = generate_map(num_cities = 20)\n",
    "def print_map(distances):\n",
    "    for row in distances:\n",
    "        print(row)\n"
   ]
  },
  {
   "cell_type": "markdown",
   "metadata": {},
   "source": [
    "1. Encoding and creating a population"
   ]
  },
  {
   "cell_type": "code",
   "execution_count": 3,
   "metadata": {},
   "outputs": [],
   "source": [
    "from random import sample\n",
    "\n",
    "import random\n",
    "\n",
    "\n",
    "def create_population(population_size = 5,num_cities = 10):\n",
    "    population = []\n",
    "    for i in range(population_size):\n",
    "        new_path = sample(cities, len(cities))\n",
    "    # If the path already exists in the population, regenerate the path\n",
    "        while new_path in population:\n",
    "            new_path = sample(cities, len(cities))\n",
    "        population.append(new_path)\n",
    "    return population\n"
   ]
  },
  {
   "cell_type": "code",
   "execution_count": null,
   "metadata": {},
   "outputs": [],
   "source": []
  },
  {
   "cell_type": "code",
   "execution_count": 4,
   "metadata": {},
   "outputs": [],
   "source": [
    "# from random import shuffle\n",
    "# cities = [1,2,3,4,5]\n",
    "# shuffle(cities)\n",
    "# print(cities)"
   ]
  },
  {
   "cell_type": "markdown",
   "metadata": {},
   "source": [
    "Mutation"
   ]
  },
  {
   "cell_type": "markdown",
   "metadata": {},
   "source": [
    "2. Evaluation:\n",
    "Calculate the distance of each population"
   ]
  },
  {
   "cell_type": "code",
   "execution_count": 5,
   "metadata": {},
   "outputs": [],
   "source": [
    "def get_path_distance(path, distances):\n",
    "    # Initialize the distance to 0\n",
    "    distance = 0\n",
    "    # Iterate through each city\n",
    "    for i in range(num_cities):\n",
    "        # Current city\n",
    "        current_city = path[i]\n",
    "        # Next city (wrap around to first city if necessary)\n",
    "        next_city = path[(i+1) % num_cities]\n",
    "        # Add the distance between current city and next city to the total distance\n",
    "        if next_city == path[0] and i == num_cities - 1:\n",
    "            distance += distances[current_city-1][next_city-1]\n",
    "        else:\n",
    "            distance += distances[current_city-1][next_city-1]\n",
    "    # Return the total distance\n",
    "    return distance\n",
    "\n",
    "def get_distance(population,distances):\n",
    "    # Initialize list to hold distances for each path in the population\n",
    "    dis = []\n",
    "    # Iterate through each path in the population and calculate its distance\n",
    "    for i in population:\n",
    "        dis.append(get_path_distance(i, distances))\n",
    "    # Return the list of distances\n",
    "    return dis\n"
   ]
  },
  {
   "cell_type": "markdown",
   "metadata": {},
   "source": [
    "3. Crossover"
   ]
  },
  {
   "cell_type": "code",
   "execution_count": 6,
   "metadata": {},
   "outputs": [],
   "source": [
    "def find_parents(population, distances):\n",
    "    # Create a copy of the population to avoid modifying the original list\n",
    "    population2 = [i for i in population]\n",
    "    # Select the first parent as the path with the shortest distance in the population\n",
    "    parent1 = min(population2, key=lambda x: get_path_distance(x, distances))\n",
    "    # Remove the first parent from the population\n",
    "    population2.remove(parent1)\n",
    "    # Select the second parent as the path with the second shortest distance in the population\n",
    "    parent2 = min(population2, key=lambda x: get_path_distance(x, distances))\n",
    "    # Return the two selected parents\n",
    "    return(parent1, parent2)\n"
   ]
  },
  {
   "cell_type": "code",
   "execution_count": 7,
   "metadata": {},
   "outputs": [],
   "source": [
    "import random\n",
    "\n",
    "def crossover(p1, p2):\n",
    "    # Make copies of the parents\n",
    "    a = p1\n",
    "    b = p2\n",
    "    # Initialize a list to hold the offspring\n",
    "    c = [0] * num_cities\n",
    "    # Select a random starting point from parent 1\n",
    "    key = random.choice(a)\n",
    "    # Initialize a list to keep track of visited keys\n",
    "    key_list = []\n",
    "    # Iterate through each city in the parents\n",
    "    j = 0\n",
    "    while j < len(a):\n",
    "        i = 0\n",
    "        while i < len(a):\n",
    "            # If the key element is found in parent 1, add it to the offspring and update the key\n",
    "            if a[i] == key:\n",
    "                c[i] = a[i]\n",
    "                key_list.append(key)\n",
    "                key = b[i]\n",
    "            # If the key is already in the key list, break the loop\n",
    "            if key in key_list:\n",
    "                break\n",
    "            i += 1\n",
    "        j += 1\n",
    "    # Replace any remaining 0's in the offspring with cities from parent 2\n",
    "    for i in c:\n",
    "        if i == 0:\n",
    "            c[c.index(i)] = b[c.index(i)]\n",
    "    # Return the offspring\n",
    "    return c\n",
    "\n"
   ]
  },
  {
   "cell_type": "markdown",
   "metadata": {},
   "source": [
    "4. Mutation"
   ]
  },
  {
   "cell_type": "code",
   "execution_count": 8,
   "metadata": {},
   "outputs": [],
   "source": [
    "from math import ceil\n",
    "\n",
    "def mutate(child, num_cities, least=0.2, most=0.5):\n",
    "    # Select a random index to start the mutation\n",
    "    mutate_index = random.randint(0, num_cities-1)\n",
    "    # Select a random number of cities to mutate\n",
    "    mutate_num = random.randint(ceil(num_cities*least), ceil(num_cities*most))\n",
    "    # Select a random direction to mutate (left or right)\n",
    "    random_direction = random.choice([-1, 1])\n",
    "    # Calculate the start and end indices for the mutation\n",
    "    mutate_index1 = min(mutate_index, mutate_index+(random_direction)*mutate_num)\n",
    "    mutate_index2 = max(mutate_index, mutate_index+(random_direction)*mutate_num)\n",
    "    # Check if the indices are within the range of the city list\n",
    "    if mutate_index1 < 0:\n",
    "        mutate_index1 = 0\n",
    "    if mutate_index2 > num_cities-1:\n",
    "        mutate_index2 = num_cities-1\n",
    "    # Reverse the order of the cities within the mutation range\n",
    "    child[mutate_index1:mutate_index2+1] = reversed(child[mutate_index1:mutate_index2+1])\n",
    "    # Return the mutated child\n",
    "    return child\n",
    "\n"
   ]
  },
  {
   "cell_type": "markdown",
   "metadata": {},
   "source": [
    "validate if child in population"
   ]
  },
  {
   "cell_type": "code",
   "execution_count": 9,
   "metadata": {},
   "outputs": [],
   "source": [
    "def validate_child(child, population, num_cities):\n",
    "    # Check if the child is already in the population, and mutate it if necessary\n",
    "    for i in range(0, 10):\n",
    "        if child in population:\n",
    "            child = mutate(child, num_cities)\n",
    "        else:\n",
    "            break\n",
    "    # Keep mutating the child until it is unique in the population\n",
    "    while child in population:\n",
    "        child = mutate(child, num_cities, 0.5, 1)\n",
    "    # Add the unique child to the population\n",
    "    population.append(child)\n",
    "    # Return the updated population\n",
    "    return population\n"
   ]
  },
  {
   "cell_type": "markdown",
   "metadata": {},
   "source": [
    "5. Hamilton"
   ]
  },
  {
   "cell_type": "code",
   "execution_count": 10,
   "metadata": {},
   "outputs": [],
   "source": [
    "def rotate_array_from_element(arr, element, shift):\n",
    "    \"\"\"\n",
    "    Rotate the array 'arr' from a given 'element' by a given 'shift' amount.\n",
    "    \"\"\"\n",
    "    # Find the index of the element to rotate from\n",
    "    index = arr.index(element)\n",
    "    # Get the length of the array\n",
    "    n = len(arr)\n",
    "    \n",
    "    # Rotate the array by shifting the elements after the element to rotate from\n",
    "    arr = arr[index:] + arr[:index] \n",
    "    if shift < 0:\n",
    "        shift = n + shift \n",
    "    arr = arr[shift:] + arr[:shift] \n",
    "    \n",
    "    # Rotate the array back to its original position by shifting the elements before the element to rotate from\n",
    "    arr = arr[-index:] + arr[:-index] \n",
    "    \n",
    "    # Return the rotated array\n",
    "    return arr\n",
    "\n"
   ]
  },
  {
   "cell_type": "code",
   "execution_count": 14,
   "metadata": {},
   "outputs": [
    {
     "name": "stdout",
     "output_type": "stream",
     "text": [
      "[0, 2, 12, 13, 12, 17, inf, 25, 2, inf, 4, inf, 22, 4, 16, 19, 8, 8, 20, 3, inf, inf, 19, 11, 21]\n",
      "[2, 0, 13, 8, 14, 15, 10, 13, 2, 12, 14, 8, 16, 18, 3, 11, 18, 15, 13, 7, 7, 15, 22, 14, 3]\n",
      "[12, 13, 0, 19, inf, 4, 21, inf, 16, 8, 6, 8, 23, 2, inf, 4, inf, 10, 13, 11, 15, 13, 14, 23, 7]\n",
      "[13, 8, 19, 0, 12, 11, 25, 13, 10, 14, 2, 23, 22, 14, 7, 13, 7, inf, 7, 11, 1, inf, 14, 17, 8]\n",
      "[12, 14, inf, 12, 0, 24, 22, 22, 1, 24, 8, 14, 4, 5, 17, 20, 15, 19, 23, 19, 6, 20, 1, 12, 23]\n",
      "[17, 15, 4, 11, 24, 0, 13, 24, 13, 6, 12, 11, 9, 19, 16, 9, 10, 25, 3, 4, inf, 7, 22, 14, 23]\n",
      "[inf, 10, 21, 25, 22, 13, 0, 13, 19, 11, 15, 8, 14, 5, 14, 11, 7, 3, 14, inf, 9, 23, 7, inf, inf]\n",
      "[25, 13, inf, 13, 22, 24, 13, 0, 1, 12, 22, 8, 15, 10, 20, 11, 6, inf, 18, 20, 12, 23, 23, 19, 18]\n",
      "[2, 2, 16, 10, 1, 13, 19, 1, 0, 5, 1, 6, 17, 7, 19, 6, 17, 8, inf, 24, 24, 18, 14, 24, 8]\n",
      "[inf, 12, 8, 14, 24, 6, 11, 12, 5, 0, 5, inf, 6, 24, 15, 21, 13, 15, inf, 12, 18, 24, 23, 14, 4]\n",
      "[4, 14, 6, 2, 8, 12, 15, 22, 1, 5, 0, 8, inf, 5, 3, 8, 4, 12, 11, 3, 12, 20, 14, 18, 24]\n",
      "[inf, 8, 8, 23, 14, 11, 8, 8, 6, inf, 8, 0, 21, 20, 14, 7, inf, 22, 8, 23, 10, 19, 25, 8, 22]\n",
      "[22, 16, 23, 22, 4, 9, 14, 15, 17, 6, inf, 21, 0, 25, 14, 10, 21, 21, 24, 3, 17, 19, 3, 10, 11]\n",
      "[4, 18, 2, 14, 5, 19, 5, 10, 7, 24, 5, 20, 25, 0, 25, 24, 14, 9, 4, 25, inf, 11, 12, 5, 2]\n",
      "[16, 3, inf, 7, 17, 16, 14, 20, 19, 15, 3, 14, 14, 25, 0, 21, 6, 6, 24, 20, 17, 24, 1, 11, 15]\n",
      "[19, 11, 4, 13, 20, 9, 11, 11, 6, 21, 8, 7, 10, 24, 21, 0, 4, 7, 6, 16, 25, 22, 18, 13, 12]\n",
      "[8, 18, inf, 7, 15, 10, 7, 6, 17, 13, 4, inf, 21, 14, 6, 4, 0, inf, 20, 22, inf, 22, 25, 19, 7]\n",
      "[8, 15, 10, inf, 19, 25, 3, inf, 8, 15, 12, 22, 21, 9, 6, 7, inf, 0, 11, 18, 19, 20, 20, 5, 11]\n",
      "[20, 13, 13, 7, 23, 3, 14, 18, inf, inf, 11, 8, 24, 4, 24, 6, 20, 11, 0, 16, 18, 25, 25, inf, 13]\n",
      "[3, 7, 11, 11, 19, 4, inf, 20, 24, 12, 3, 23, 3, 25, 20, 16, 22, 18, 16, 0, 9, 23, 5, 23, 20]\n",
      "[inf, 7, 15, 1, 6, inf, 9, 12, 24, 18, 12, 10, 17, inf, 17, 25, inf, 19, 18, 9, 0, 11, 3, 15, inf]\n",
      "[inf, 15, 13, inf, 20, 7, 23, 23, 18, 24, 20, 19, 19, 11, 24, 22, 22, 20, 25, 23, 11, 0, 20, 8, 21]\n",
      "[19, 22, 14, 14, 1, 22, 7, 23, 14, 23, 14, 25, 3, 12, 1, 18, 25, 20, 25, 5, 3, 20, 0, 6, 1]\n",
      "[11, 14, 23, 17, 12, 14, inf, 19, 24, 14, 18, 8, 10, 5, 11, 13, 19, 5, inf, 23, 15, 8, 6, 0, 7]\n",
      "[21, 3, 7, 8, 23, 23, inf, 18, 8, 4, 24, 22, 11, 2, 15, 12, 7, 11, 13, 20, inf, 21, 1, 7, 0]\n",
      "min cost: 339\n",
      "min path is [1, 5, 2, 10, 6, 15, 9, 17, 16, 3, 21, 23, 7, 8, 4, 19, 13, 18, 25, 11, 24, 12, 22, 20, 14]\n",
      "From which city u want to start? \n",
      "5\n",
      "the hamilton circuit starting from City 5 is  [5, 2, 10, 6, 15, 9, 17, 16, 3, 21, 23, 7, 8, 4, 19, 13, 18, 25, 11, 24, 12, 22, 20, 14, 1, 5]\n"
     ]
    }
   ],
   "source": [
    "num_cities = 40\n",
    "population_size = 15\n",
    "cities = [i for i in range(1,num_cities+1)]\n",
    "distances = generate_map(num_cities)\n",
    "print_map(distances)\n",
    "population = create_population(population_size)\n",
    "for i in range(0,200):\n",
    "    dis = get_distance(population,distances)\n",
    "    p1,p2 = find_parents(population, distances)\n",
    "    child = crossover(p1, p2)\n",
    "    population = validate_child(child,population,num_cities)\n",
    "    dis = get_distance(population,distances)\n",
    "    #print(min(dis))\n",
    "print(\"min cost:\", min(dis))    \n",
    "#print(dis.index(min(dis))) \n",
    "print(\"min path is\", population[dis.index(min(dis))])\n",
    "p=population[dis.index(min(dis))]\n",
    "print(\"From which city u want to start? \")\n",
    "element=int(input())\n",
    "shift=p.index(element)\n",
    "b=rotate_array_from_element(p, element, shift)\n",
    "b.append(element)\n",
    "print(\"the hamilton circuit starting from City\",element,\"is \" ,b )"
   ]
  },
  {
   "cell_type": "markdown",
   "metadata": {},
   "source": [
    "Loop and get a local minumal answer"
   ]
  },
  {
   "cell_type": "code",
   "execution_count": null,
   "metadata": {},
   "outputs": [],
   "source": [
    "num_cities = 20\n",
    "population_size = 10\n",
    "cities = [i for i in range(1,num_cities+1)]\n",
    "ditsances = generate_map(num_cities)\n",
    "print_map(distances)\n",
    "population = create_population(population_size)\n",
    "for i in range(0,200):\n",
    "    dis = get_distance(population,distances)\n",
    "    p1,p2 = find_parents(population, distances)\n",
    "    child = crossover(p1, p2)\n",
    "    population = validate_child(child,population,num_cities)\n",
    "    dis = get_distance(population,distances)\n",
    "    print(min(dis))\n",
    "print(\"min cost:\", min(dis))    \n",
    "print(dis.index(min(dis))) \n",
    "print(\"min path is\", population[dis.index(min(dis))])"
   ]
  },
  {
   "cell_type": "code",
   "execution_count": null,
   "metadata": {},
   "outputs": [],
   "source": []
  },
  {
   "cell_type": "code",
   "execution_count": null,
   "metadata": {},
   "outputs": [],
   "source": []
  }
 ],
 "metadata": {
  "kernelspec": {
   "display_name": "Python 3 (ipykernel)",
   "language": "python",
   "name": "python3"
  },
  "language_info": {
   "codemirror_mode": {
    "name": "ipython",
    "version": 3
   },
   "file_extension": ".py",
   "mimetype": "text/x-python",
   "name": "python",
   "nbconvert_exporter": "python",
   "pygments_lexer": "ipython3",
   "version": "3.10.9"
  },
  "vscode": {
   "interpreter": {
    "hash": "fc48e8e260c07282d52e405eed84ada7841ada686886b532ca3f1585e5c811a8"
   }
  }
 },
 "nbformat": 4,
 "nbformat_minor": 2
}
